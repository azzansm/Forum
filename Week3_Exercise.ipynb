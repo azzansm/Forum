{
 "cells": [
  {
   "cell_type": "code",
   "execution_count": 5,
   "id": "976ffb08",
   "metadata": {},
   "outputs": [
    {
     "name": "stdout",
     "output_type": "stream",
     "text": [
      "Enter the radius of a circle: 10\n",
      "The area of the circle is 314.1592653589793\n"
     ]
    }
   ],
   "source": [
    "# Q1) Write a Python program which accepts the radius of a circle from the user and compute the area.\n",
    "import math\n",
    "r = float(input(\"Enter the radius of a circle: \"))\n",
    "print(\"The area of the circle is \" + str(math.pi*(r**2)))"
   ]
  },
  {
   "cell_type": "code",
   "execution_count": 7,
   "id": "05457844",
   "metadata": {},
   "outputs": [
    {
     "name": "stdout",
     "output_type": "stream",
     "text": [
      "Enter your first name: Azza\n",
      "Enter your last name: Nasima\n",
      "Nasima Azza\n"
     ]
    }
   ],
   "source": [
    "# Q2) Write a Python program which accepts the user's first and last name and print them in reverse order with a space between them. \n",
    "fname = input(\"Enter your first name: \")\n",
    "lname = input(\"Enter your last name: \")\n",
    "print(lname,  fname)"
   ]
  },
  {
   "cell_type": "code",
   "execution_count": 8,
   "id": "f9c721a6",
   "metadata": {},
   "outputs": [
    {
     "name": "stdout",
     "output_type": "stream",
     "text": [
      "Red Black\n"
     ]
    }
   ],
   "source": [
    "# Q3) Write a Python program to display the first and last colors from the following list. \n",
    "color_list = [\"Red\", \"Green\", \"White\", \"Black\"]\n",
    "print(color_list[0], color_list[-1])"
   ]
  },
  {
   "cell_type": "code",
   "execution_count": 9,
   "id": "9f89a1af",
   "metadata": {},
   "outputs": [
    {
     "name": "stdout",
     "output_type": "stream",
     "text": [
      "Enter an integer: 5\n",
      "615\n"
     ]
    }
   ],
   "source": [
    "# Q4) Write a Python program that accepts an integer (n) and computes the value of n+nn+nnn. \n",
    "n = int(input(\"Enter an integer: \"))\n",
    "n1 = int(\"%s\" % n)\n",
    "n2 = int(\"%s%s\" %(n,n))\n",
    "n3 = int(\"%s%s%s\" %(n,n,n))\n",
    "print(n1+n2+n3)"
   ]
  },
  {
   "cell_type": "code",
   "execution_count": 10,
   "id": "1eb7ef4d",
   "metadata": {},
   "outputs": [
    {
     "name": "stdout",
     "output_type": "stream",
     "text": [
      "904.7786842338603\n"
     ]
    }
   ],
   "source": [
    "# Q5) Write a Python program to get the volume of a sphere with radius 6.\n",
    "import math\n",
    "r = 6\n",
    "vol = 4/3*math.pi*(r**3)\n",
    "print(vol)\n"
   ]
  },
  {
   "cell_type": "code",
   "execution_count": 14,
   "id": "6bc3d4e8",
   "metadata": {},
   "outputs": [
    {
     "name": "stdout",
     "output_type": "stream",
     "text": [
      "Enter any number: 21\n",
      "8\n"
     ]
    }
   ],
   "source": [
    "# Q6) Write a Python program to get the difference between a given number and 17, if the number is greater than 17 return double the absolute difference. \n",
    "n = int(input(\"Enter any number: \"))\n",
    "if n <= 17:\n",
    "    print(17-n)\n",
    "else:\n",
    "    print((n-17)*2)"
   ]
  },
  {
   "cell_type": "code",
   "execution_count": 15,
   "id": "9d519583",
   "metadata": {},
   "outputs": [
    {
     "name": "stdout",
     "output_type": "stream",
     "text": [
      "Enter the first number: 3\n",
      "Enter the second number: 3\n",
      "Enter the third number: 3\n",
      "27\n"
     ]
    }
   ],
   "source": [
    "# Q7) Write a Python program to calculate the sum of three given numbers, if the values are equal then return thrice of their sum. \n",
    "n1 = int(input(\"Enter the first number: \"))\n",
    "n2 = int(input(\"Enter the second number: \"))\n",
    "n3 = int(input(\"Enter the third number: \"))\n",
    "if n1 == n2 == n3:\n",
    "    print((n1+n2+n3)*3)\n",
    "else:\n",
    "    print(n1+n2+n3)"
   ]
  },
  {
   "cell_type": "code",
   "execution_count": 20,
   "id": "038ea876",
   "metadata": {},
   "outputs": [
    {
     "name": "stdout",
     "output_type": "stream",
     "text": [
      "Enter an integer number: 8\n",
      "8 is an even number\n"
     ]
    }
   ],
   "source": [
    "# Q8) Write a Python program to find whether a given number (accept from the user) is even or odd, print out an appropriate message to the user. \n",
    "n = int(input(\"Enter an integer number: \"))\n",
    "if n%2 == 0:\n",
    "    print(n,\"is an even number\")\n",
    "else:\n",
    "    print(n,\"is an odd number\")"
   ]
  },
  {
   "cell_type": "code",
   "execution_count": 21,
   "id": "7661b269",
   "metadata": {},
   "outputs": [
    {
     "name": "stdout",
     "output_type": "stream",
     "text": [
      "Enter the alphabet: a\n",
      "a is a vowel\n"
     ]
    }
   ],
   "source": [
    "# Q9) Write a Python program to test whether a letter is a vowel or not. \n",
    "l = input(\"Enter the alphabet: \")\n",
    "if l in(\"a\",\"i\",\"u\",\"e\",\"o\",\"A\",\"I\",\"U\",\"E\",\"O\"):\n",
    "    print(l,\"is a vowel\")\n",
    "else:\n",
    "    print(l,\"is not a vowel\")"
   ]
  },
  {
   "cell_type": "code",
   "execution_count": 25,
   "id": "ca1abff5",
   "metadata": {},
   "outputs": [
    {
     "name": "stdout",
     "output_type": "stream",
     "text": [
      "Enter the color of the rainbow: red\n",
      "it is one of the colors in the rainbow\n"
     ]
    }
   ],
   "source": [
    "# Q10) Write a Python program to check whether a specified value is contained in a group of values.\n",
    "rbow = [\"Red\",\"Yellow\",\"Green\",\"Blue\",\"Orange\",\"Violet\",\"Indigo\"]\n",
    "color = input(\"Enter the color of the rainbow: \")\n",
    "color = color.capitalize()\n",
    "if color in rbow:\n",
    "    print(\"it is one of the colors in the rainbow\")\n",
    "else:\n",
    "    print(\"it is NOT one of the colors in the rainbow\")"
   ]
  },
  {
   "cell_type": "code",
   "execution_count": 30,
   "id": "7fb19530",
   "metadata": {},
   "outputs": [
    {
     "name": "stdout",
     "output_type": "stream",
     "text": [
      "Enter the first number: 3\n",
      "Enter the second number: 4\n",
      "Enter the third number: 5\n",
      "□□□\n",
      "□□□□\n",
      "□□□□□\n"
     ]
    }
   ],
   "source": [
    "# Q11) Write a Python program to create a histogram from a given list of integers. \n",
    "def histrogram(nums):\n",
    "    for n in nums:\n",
    "        output = ''\n",
    "        while n > 0:\n",
    "            output = output + \"□\"\n",
    "            n = n - 1\n",
    "        print(output)\n",
    "\n",
    "n1 = int(input(\"Enter the first number: \"))\n",
    "n2 = int(input(\"Enter the second number: \"))\n",
    "n3 = int(input(\"Enter the third number: \"))\n",
    "histrogram([n1, n2, n3])"
   ]
  },
  {
   "cell_type": "code",
   "execution_count": 32,
   "id": "8d043291",
   "metadata": {},
   "outputs": [
    {
     "name": "stdout",
     "output_type": "stream",
     "text": [
      "386\n",
      "462\n",
      "418\n",
      "344\n",
      "236\n",
      "566\n",
      "978\n",
      "328\n",
      "162\n",
      "758\n",
      "918\n",
      "412\n",
      "566\n",
      "826\n",
      "248\n",
      "866\n",
      "950\n",
      "626\n",
      "104\n",
      "58\n",
      "512\n",
      "24\n",
      "892\n",
      "894\n",
      "742\n",
      "958\n"
     ]
    }
   ],
   "source": [
    "# Q12) Write a Python program to print all even numbers from a given numbers list in the same order. \n",
    "numbers = [386, 462, 47, 418, 907, 344, 236, 375, 823, 566, 597, 978, 328, 615, 953, 345,\n",
    " 399, 162, 758, 219, 918, 237, 412, 566, 826, 248, 866, 950, 626, 949, 687, 217,\n",
    " 815, 67, 104, 58, 512, 24, 892, 894, 767, 553, 81, 379, 843, 831, 445, 742, 717,\n",
    " 958,743, 527]\n",
    "for n in numbers:\n",
    "    if n % 2 ==0:\n",
    "        print(n)"
   ]
  },
  {
   "cell_type": "code",
   "execution_count": 37,
   "id": "d5019979",
   "metadata": {},
   "outputs": [
    {
     "name": "stdout",
     "output_type": "stream",
     "text": [
      "Enter the base of a triangle: 9\n",
      "Enter the height of a triangle: 10\n",
      "The area of the triangle is  45.0\n"
     ]
    }
   ],
   "source": [
    "# Q13) Write a Python program that will accept the base and height of a triangle and compute the area. \n",
    "b = float(input(\"Enter the base of a triangle: \"))\n",
    "h = float(input(\"Enter the height of a triangle: \"))\n",
    "area = 1/2*b*h\n",
    "print(\"The area of the triangle is \", area)"
   ]
  },
  {
   "cell_type": "code",
   "execution_count": 39,
   "id": "8aa401b8",
   "metadata": {},
   "outputs": [
    {
     "name": "stdout",
     "output_type": "stream",
     "text": [
      "Enter any integer: 5\n",
      "Enter any integer: 6\n",
      "The LCM is 30\n"
     ]
    }
   ],
   "source": [
    "# Q14) Write a Python program to get the least common multiple (LCM) of two positive integers. \n",
    "import math\n",
    "n1 = int(input(\"Enter any integer: \"))\n",
    "n2 = int(input(\"Enter any integer: \"))\n",
    "print(\"The LCM is\", math.lcm(n1,n2))"
   ]
  },
  {
   "cell_type": "code",
   "execution_count": 44,
   "id": "e39dab59",
   "metadata": {},
   "outputs": [
    {
     "name": "stdout",
     "output_type": "stream",
     "text": [
      "Enter the first number: 1\n",
      "Enter the second number: 2\n",
      "Enter the third number: 3\n",
      "The sum is 6\n"
     ]
    }
   ],
   "source": [
    "# Q15) Write a Python program to sum of three given integers. However, if two values are equal sum will be zero.\n",
    "n1 = int(input(\"Enter the first number: \"))\n",
    "n2 = int(input(\"Enter the second number: \"))\n",
    "n3 = int(input(\"Enter the third number: \"))\n",
    "if n1==n2:\n",
    "    print(\"The sum is\", \"0\")\n",
    "elif n2==n3:\n",
    "    print(\"The sum is\", \"0\")\n",
    "elif n3==n1:\n",
    "    print(\"The sum is\", \"0\")\n",
    "else:\n",
    "    print(\"The sum is\", n1+n2+n3)"
   ]
  },
  {
   "cell_type": "code",
   "execution_count": 57,
   "id": "d37cf271",
   "metadata": {},
   "outputs": [
    {
     "name": "stdout",
     "output_type": "stream",
     "text": [
      "Enter the value of x: 4\n",
      "Enter the value of y: 3\n",
      "((4+3)^2) = 49\n"
     ]
    }
   ],
   "source": [
    "# Q16) Write a Python program to solve (x + y) * (x + y). \n",
    "x = int(input(\"Enter the value of x: \"))\n",
    "y = int(input(\"Enter the value of y: \"))\n",
    "result = (x+y)*(x+y)\n",
    "print(\"((%d+%d)^2) = %d\" % (x, y, result))"
   ]
  },
  {
   "cell_type": "code",
   "execution_count": 74,
   "id": "61defd46",
   "metadata": {},
   "outputs": [
    {
     "name": "stdout",
     "output_type": "stream",
     "text": [
      "Enter the specified principal amount: 10000\n",
      "Enter the interest rate: 3.5\n",
      "Enter the number of periods: 7\n",
      "The future value is 12722.79\n"
     ]
    }
   ],
   "source": [
    "# Q17) Write a Python program to compute the future value of a specified principal amount, rate of interest, and a number of years. \n",
    "amt = float(input(\"Enter the specified principal amount: \"))\n",
    "rate = float(input(\"Enter the interest rate: \"))\n",
    "num = float(input(\"Enter the number of periods: \"))\n",
    "fv = amt*(1+rate/100)**num\n",
    "print(\"The future value is\", round(fv, 2))"
   ]
  },
  {
   "cell_type": "code",
   "execution_count": 75,
   "id": "30c519ca",
   "metadata": {},
   "outputs": [
    {
     "name": "stdout",
     "output_type": "stream",
     "text": [
      "Enter the value of x1: 3\n",
      "Enter the value of y1: 4\n",
      "Enter the value of x2: 4\n",
      "Enter the value of y2: 3\n",
      "The distance is 1.41\n"
     ]
    }
   ],
   "source": [
    "# Q18) Write a Python program to compute the distance between the points (x1, y1) and (x2, y2). \n",
    "import math\n",
    "x1 = int(input(\"Enter the value of x1: \"))\n",
    "y1 = int(input(\"Enter the value of y1: \"))\n",
    "x2 = int(input(\"Enter the value of x2: \"))\n",
    "y2 = int(input(\"Enter the value of y2: \"))\n",
    "d = math.sqrt(((x2-x1)**2)+(y2-y1)**2)\n",
    "print(\"The distance is\", round(d, 2))"
   ]
  },
  {
   "cell_type": "code",
   "execution_count": 78,
   "id": "f7bfb794",
   "metadata": {},
   "outputs": [
    {
     "name": "stdout",
     "output_type": "stream",
     "text": [
      "Enter any positive integer: 20\n",
      "The sum is 210.0\n"
     ]
    }
   ],
   "source": [
    "# Q19) Write a python program to sum of the first n positive integers. \n",
    "n = int(input(\"Enter any positive integer: \"))\n",
    "sum = n*(n+1)/2\n",
    "print(\"The sum is\", sum)"
   ]
  },
  {
   "cell_type": "code",
   "execution_count": 87,
   "id": "d0c7a581",
   "metadata": {},
   "outputs": [
    {
     "name": "stdout",
     "output_type": "stream",
     "text": [
      "Enter your height (feet): 5\n",
      "Enter your height (inches): 6\n",
      "Your height is 167 cm\n"
     ]
    }
   ],
   "source": [
    "# Q20) Write a Python program to convert height (in feet and inches) to centimeters.\n",
    "h_feet = int(input(\"Enter your height (feet): \"))\n",
    "h_inch = int(input(\"Enter your height (inches): \"))\n",
    "h_inch += h_feet * 12\n",
    "h_cm = round(h_inch * 2.54, 1)\n",
    "print(\"Your height is %d cm\" % h_cm)"
   ]
  },
  {
   "cell_type": "code",
   "execution_count": 83,
   "id": "04b35887",
   "metadata": {},
   "outputs": [
    {
     "name": "stdout",
     "output_type": "stream",
     "text": [
      "Enter the adjacent: 3\n",
      "Enter the opposite: 4\n",
      "The length of the hypotenuse is:  5.0\n"
     ]
    }
   ],
   "source": [
    "# Q21) Write a Python program to calculate the hypotenuse of a right angled triangle. \n",
    "import math\n",
    "a = float(input(\"Enter the adjacent: \"))\n",
    "b = float(input(\"Enter the opposite: \"))\n",
    "c = math.sqrt(a**2 + b**2)\n",
    "print(\"The length of the hypotenuse is: \", c )"
   ]
  },
  {
   "cell_type": "code",
   "execution_count": 86,
   "id": "5da84c16",
   "metadata": {},
   "outputs": [
    {
     "name": "stdout",
     "output_type": "stream",
     "text": [
      "Enter your height in (feet): 7\n",
      "Enter your weight (kg): 61\n",
      "Your body mass index is:  1.24\n"
     ]
    }
   ],
   "source": [
    "# Q22) Write a Python program to calculate body mass index. \n",
    "h = float(input(\"Enter your height in (feet): \"))\n",
    "w = float(input(\"Enter your weight (kg): \"))\n",
    "print(\"Your body mass index is: \", round(w/(h*h), 2))\n"
   ]
  },
  {
   "cell_type": "code",
   "execution_count": 94,
   "id": "f4217fe4",
   "metadata": {},
   "outputs": [
    {
     "name": "stdout",
     "output_type": "stream",
     "text": [
      "Enter the value of x1: 2\n",
      "Enter the value of y1: 2\n",
      "Enter the value of x2: 4\n",
      "Enter the value of y2: 4\n",
      "The midpoint of the line is (3,3)\n"
     ]
    }
   ],
   "source": [
    "# Q23) Write a Python program to calculate midpoints of a line.\n",
    "x1 = float(input(\"Enter the value of x1: \"))\n",
    "y1 = float(input(\"Enter the value of y1: \"))\n",
    "x2 = float(input(\"Enter the value of x2: \"))\n",
    "y2 = float(input(\"Enter the value of y2: \"))\n",
    "mpx = (x1+x2)/2\n",
    "mpy = (y1+y2)/2\n",
    "print(\"The midpoint of the line is (%d,%d)\" % (mpx, mpy))"
   ]
  },
  {
   "cell_type": "code",
   "execution_count": 97,
   "id": "d568db27",
   "metadata": {},
   "outputs": [
    {
     "name": "stdout",
     "output_type": "stream",
     "text": [
      "2002, 2009, 2016, 2023, 2037, 2044, 2051, 2058, 2072, 2079, 2086, 2093, 2107, 2114, 2121, 2128, 2142, 2149, 2156, 2163, 2177, 2184, 2191, 2198, 2212, 2219, 2226, 2233, 2247, 2254, 2261, 2268, 2282, 2289, 2296, 2303, 2317, 2324, 2331, 2338, 2352, 2359, 2366, 2373, 2387, 2394, 2401, 2408, 2422, 2429, 2436, 2443, 2457, 2464, 2471, 2478, 2492, 2499, 2506, 2513, 2527, 2534, 2541, 2548, 2562, 2569, 2576, 2583, 2597, 2604, 2611, 2618, 2632, 2639, 2646, 2653, 2667, 2674, 2681, 2688, 2702, 2709, 2716, 2723, 2737, 2744, 2751, 2758, 2772, 2779, 2786, 2793, 2807, 2814, 2821, 2828, 2842, 2849, 2856, 2863, 2877, 2884, 2891, 2898, 2912, 2919, 2926, 2933, 2947, 2954, 2961, 2968, 2982, 2989, 2996, 3003, 3017, 3024, 3031, 3038, 3052, 3059, 3066, 3073, 3087, 3094, 3101, 3108, 3122, 3129, 3136, 3143, 3157, 3164, 3171, 3178, 3192, 3199, "
     ]
    }
   ],
   "source": [
    "# Q24) Write a program which will find all such numbers which are divisible by 7 but are not a multiple of 5, between 2000 and 3200 (both included). The numbers obtained should be printed in a comma-separated sequence on a single line. \n",
    "for n in range (2000, 3201):\n",
    "    if n%7 == 0 and n%5 != 0:\n",
    "        print(n, end=\", \")"
   ]
  }
 ],
 "metadata": {
  "kernelspec": {
   "display_name": "Python 3 (ipykernel)",
   "language": "python",
   "name": "python3"
  },
  "language_info": {
   "codemirror_mode": {
    "name": "ipython",
    "version": 3
   },
   "file_extension": ".py",
   "mimetype": "text/x-python",
   "name": "python",
   "nbconvert_exporter": "python",
   "pygments_lexer": "ipython3",
   "version": "3.10.7"
  }
 },
 "nbformat": 4,
 "nbformat_minor": 5
}
